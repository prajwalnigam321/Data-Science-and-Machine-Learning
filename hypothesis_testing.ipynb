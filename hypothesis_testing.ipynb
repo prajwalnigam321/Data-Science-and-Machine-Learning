{
  "nbformat": 4,
  "nbformat_minor": 0,
  "metadata": {
    "colab": {
      "provenance": [],
      "authorship_tag": "ABX9TyM9iJRG2Ykvc4fzbG1gZpgL",
      "include_colab_link": true
    },
    "kernelspec": {
      "name": "python3",
      "display_name": "Python 3"
    },
    "language_info": {
      "name": "python"
    }
  },
  "cells": [
    {
      "cell_type": "markdown",
      "metadata": {
        "id": "view-in-github",
        "colab_type": "text"
      },
      "source": [
        "<a href=\"https://colab.research.google.com/github/prajwalnigam321/Data-Science-and-Machine-Learning/blob/main/hypothesis_testing.ipynb\" target=\"_parent\"><img src=\"https://colab.research.google.com/assets/colab-badge.svg\" alt=\"Open In Colab\"/></a>"
      ]
    },
    {
      "cell_type": "code",
      "execution_count": 21,
      "metadata": {
        "id": "XYwumh6mNRQr"
      },
      "outputs": [],
      "source": [
        "import pandas as pd\n",
        "from scipy.stats import stats,norm,ttest_1samp\n",
        "import numpy as np\n",
        "import seaborn as sns\n"
      ]
    },
    {
      "cell_type": "code",
      "source": [
        "s=pd.read_csv('Sachin_ODI.csv')\n",
        "s.describe()"
      ],
      "metadata": {
        "colab": {
          "base_uri": "https://localhost:8080/",
          "height": 300
        },
        "id": "bTVPqdrpNfYb",
        "outputId": "2ca76fff-a617-42dc-a336-76afdd619d51"
      },
      "execution_count": 4,
      "outputs": [
        {
          "output_type": "execute_result",
          "data": {
            "text/plain": [
              "             runs      NotOut          bf       fours       sixes          sr  \\\n",
              "count  360.000000  360.000000  360.000000  360.000000  360.000000  360.000000   \n",
              "mean    43.241667    0.083333   49.394444    4.858333    0.466667   75.295056   \n",
              "std     42.182452    0.276770   41.348576    4.722900    1.057669   34.980677   \n",
              "min      0.000000    0.000000    2.000000    0.000000    0.000000    0.000000   \n",
              "25%      8.000000    0.000000   15.000000    1.000000    0.000000   57.030000   \n",
              "50%     30.000000    0.000000   35.000000    3.000000    0.000000   76.330000   \n",
              "75%     67.000000    0.000000   73.500000    8.000000    1.000000   97.822500   \n",
              "max    200.000000    1.000000  153.000000   25.000000    7.000000  196.550000   \n",
              "\n",
              "             Inns  \n",
              "count  360.000000  \n",
              "mean     1.527778  \n",
              "std      0.499923  \n",
              "min      1.000000  \n",
              "25%      1.000000  \n",
              "50%      2.000000  \n",
              "75%      2.000000  \n",
              "max      2.000000  "
            ],
            "text/html": [
              "\n",
              "  <div id=\"df-cd75b4b4-f29b-4e54-ad4b-deb7d55baf6b\">\n",
              "    <div class=\"colab-df-container\">\n",
              "      <div>\n",
              "<style scoped>\n",
              "    .dataframe tbody tr th:only-of-type {\n",
              "        vertical-align: middle;\n",
              "    }\n",
              "\n",
              "    .dataframe tbody tr th {\n",
              "        vertical-align: top;\n",
              "    }\n",
              "\n",
              "    .dataframe thead th {\n",
              "        text-align: right;\n",
              "    }\n",
              "</style>\n",
              "<table border=\"1\" class=\"dataframe\">\n",
              "  <thead>\n",
              "    <tr style=\"text-align: right;\">\n",
              "      <th></th>\n",
              "      <th>runs</th>\n",
              "      <th>NotOut</th>\n",
              "      <th>bf</th>\n",
              "      <th>fours</th>\n",
              "      <th>sixes</th>\n",
              "      <th>sr</th>\n",
              "      <th>Inns</th>\n",
              "    </tr>\n",
              "  </thead>\n",
              "  <tbody>\n",
              "    <tr>\n",
              "      <th>count</th>\n",
              "      <td>360.000000</td>\n",
              "      <td>360.000000</td>\n",
              "      <td>360.000000</td>\n",
              "      <td>360.000000</td>\n",
              "      <td>360.000000</td>\n",
              "      <td>360.000000</td>\n",
              "      <td>360.000000</td>\n",
              "    </tr>\n",
              "    <tr>\n",
              "      <th>mean</th>\n",
              "      <td>43.241667</td>\n",
              "      <td>0.083333</td>\n",
              "      <td>49.394444</td>\n",
              "      <td>4.858333</td>\n",
              "      <td>0.466667</td>\n",
              "      <td>75.295056</td>\n",
              "      <td>1.527778</td>\n",
              "    </tr>\n",
              "    <tr>\n",
              "      <th>std</th>\n",
              "      <td>42.182452</td>\n",
              "      <td>0.276770</td>\n",
              "      <td>41.348576</td>\n",
              "      <td>4.722900</td>\n",
              "      <td>1.057669</td>\n",
              "      <td>34.980677</td>\n",
              "      <td>0.499923</td>\n",
              "    </tr>\n",
              "    <tr>\n",
              "      <th>min</th>\n",
              "      <td>0.000000</td>\n",
              "      <td>0.000000</td>\n",
              "      <td>2.000000</td>\n",
              "      <td>0.000000</td>\n",
              "      <td>0.000000</td>\n",
              "      <td>0.000000</td>\n",
              "      <td>1.000000</td>\n",
              "    </tr>\n",
              "    <tr>\n",
              "      <th>25%</th>\n",
              "      <td>8.000000</td>\n",
              "      <td>0.000000</td>\n",
              "      <td>15.000000</td>\n",
              "      <td>1.000000</td>\n",
              "      <td>0.000000</td>\n",
              "      <td>57.030000</td>\n",
              "      <td>1.000000</td>\n",
              "    </tr>\n",
              "    <tr>\n",
              "      <th>50%</th>\n",
              "      <td>30.000000</td>\n",
              "      <td>0.000000</td>\n",
              "      <td>35.000000</td>\n",
              "      <td>3.000000</td>\n",
              "      <td>0.000000</td>\n",
              "      <td>76.330000</td>\n",
              "      <td>2.000000</td>\n",
              "    </tr>\n",
              "    <tr>\n",
              "      <th>75%</th>\n",
              "      <td>67.000000</td>\n",
              "      <td>0.000000</td>\n",
              "      <td>73.500000</td>\n",
              "      <td>8.000000</td>\n",
              "      <td>1.000000</td>\n",
              "      <td>97.822500</td>\n",
              "      <td>2.000000</td>\n",
              "    </tr>\n",
              "    <tr>\n",
              "      <th>max</th>\n",
              "      <td>200.000000</td>\n",
              "      <td>1.000000</td>\n",
              "      <td>153.000000</td>\n",
              "      <td>25.000000</td>\n",
              "      <td>7.000000</td>\n",
              "      <td>196.550000</td>\n",
              "      <td>2.000000</td>\n",
              "    </tr>\n",
              "  </tbody>\n",
              "</table>\n",
              "</div>\n",
              "      <button class=\"colab-df-convert\" onclick=\"convertToInteractive('df-cd75b4b4-f29b-4e54-ad4b-deb7d55baf6b')\"\n",
              "              title=\"Convert this dataframe to an interactive table.\"\n",
              "              style=\"display:none;\">\n",
              "        \n",
              "  <svg xmlns=\"http://www.w3.org/2000/svg\" height=\"24px\"viewBox=\"0 0 24 24\"\n",
              "       width=\"24px\">\n",
              "    <path d=\"M0 0h24v24H0V0z\" fill=\"none\"/>\n",
              "    <path d=\"M18.56 5.44l.94 2.06.94-2.06 2.06-.94-2.06-.94-.94-2.06-.94 2.06-2.06.94zm-11 1L8.5 8.5l.94-2.06 2.06-.94-2.06-.94L8.5 2.5l-.94 2.06-2.06.94zm10 10l.94 2.06.94-2.06 2.06-.94-2.06-.94-.94-2.06-.94 2.06-2.06.94z\"/><path d=\"M17.41 7.96l-1.37-1.37c-.4-.4-.92-.59-1.43-.59-.52 0-1.04.2-1.43.59L10.3 9.45l-7.72 7.72c-.78.78-.78 2.05 0 2.83L4 21.41c.39.39.9.59 1.41.59.51 0 1.02-.2 1.41-.59l7.78-7.78 2.81-2.81c.8-.78.8-2.07 0-2.86zM5.41 20L4 18.59l7.72-7.72 1.47 1.35L5.41 20z\"/>\n",
              "  </svg>\n",
              "      </button>\n",
              "      \n",
              "  <style>\n",
              "    .colab-df-container {\n",
              "      display:flex;\n",
              "      flex-wrap:wrap;\n",
              "      gap: 12px;\n",
              "    }\n",
              "\n",
              "    .colab-df-convert {\n",
              "      background-color: #E8F0FE;\n",
              "      border: none;\n",
              "      border-radius: 50%;\n",
              "      cursor: pointer;\n",
              "      display: none;\n",
              "      fill: #1967D2;\n",
              "      height: 32px;\n",
              "      padding: 0 0 0 0;\n",
              "      width: 32px;\n",
              "    }\n",
              "\n",
              "    .colab-df-convert:hover {\n",
              "      background-color: #E2EBFA;\n",
              "      box-shadow: 0px 1px 2px rgba(60, 64, 67, 0.3), 0px 1px 3px 1px rgba(60, 64, 67, 0.15);\n",
              "      fill: #174EA6;\n",
              "    }\n",
              "\n",
              "    [theme=dark] .colab-df-convert {\n",
              "      background-color: #3B4455;\n",
              "      fill: #D2E3FC;\n",
              "    }\n",
              "\n",
              "    [theme=dark] .colab-df-convert:hover {\n",
              "      background-color: #434B5C;\n",
              "      box-shadow: 0px 1px 3px 1px rgba(0, 0, 0, 0.15);\n",
              "      filter: drop-shadow(0px 1px 2px rgba(0, 0, 0, 0.3));\n",
              "      fill: #FFFFFF;\n",
              "    }\n",
              "  </style>\n",
              "\n",
              "      <script>\n",
              "        const buttonEl =\n",
              "          document.querySelector('#df-cd75b4b4-f29b-4e54-ad4b-deb7d55baf6b button.colab-df-convert');\n",
              "        buttonEl.style.display =\n",
              "          google.colab.kernel.accessAllowed ? 'block' : 'none';\n",
              "\n",
              "        async function convertToInteractive(key) {\n",
              "          const element = document.querySelector('#df-cd75b4b4-f29b-4e54-ad4b-deb7d55baf6b');\n",
              "          const dataTable =\n",
              "            await google.colab.kernel.invokeFunction('convertToInteractive',\n",
              "                                                     [key], {});\n",
              "          if (!dataTable) return;\n",
              "\n",
              "          const docLinkHtml = 'Like what you see? Visit the ' +\n",
              "            '<a target=\"_blank\" href=https://colab.research.google.com/notebooks/data_table.ipynb>data table notebook</a>'\n",
              "            + ' to learn more about interactive tables.';\n",
              "          element.innerHTML = '';\n",
              "          dataTable['output_type'] = 'display_data';\n",
              "          await google.colab.output.renderOutput(dataTable, element);\n",
              "          const docLink = document.createElement('div');\n",
              "          docLink.innerHTML = docLinkHtml;\n",
              "          element.appendChild(docLink);\n",
              "        }\n",
              "      </script>\n",
              "    </div>\n",
              "  </div>\n",
              "  "
            ]
          },
          "metadata": {},
          "execution_count": 4
        }
      ]
    },
    {
      "cell_type": "code",
      "source": [
        "mu=s['runs'].mean()\n",
        "std=s['runs'].std()  #population mean and std\n",
        "mu,std"
      ],
      "metadata": {
        "colab": {
          "base_uri": "https://localhost:8080/"
        },
        "id": "BWytPquTO0sz",
        "outputId": "9c3c5e98-56f8-421c-8964-ad748bd057c4"
      },
      "execution_count": 15,
      "outputs": [
        {
          "output_type": "execute_result",
          "data": {
            "text/plain": [
              "(43.24166666666667, 42.18245206052441)"
            ]
          },
          "metadata": {},
          "execution_count": 15
        }
      ]
    },
    {
      "cell_type": "code",
      "source": [
        "sample_mean=s[s['Inns']==1]['runs'].mean() #sample mean\n",
        "sample_std=s[s['Inns']==1]['runs'].std()  #sample std \n",
        "print(f\"sample mean: {sample_mean}   sample std:{sample_std}\")"
      ],
      "metadata": {
        "colab": {
          "base_uri": "https://localhost:8080/"
        },
        "id": "23pRLBjFNjuD",
        "outputId": "3162287d-c6b8-4e18-98c2-17f14020af6d"
      },
      "execution_count": 6,
      "outputs": [
        {
          "output_type": "stream",
          "name": "stdout",
          "text": [
            "sample mean: 46.67058823529412   sample std:45.929941050027836\n"
          ]
        }
      ]
    },
    {
      "cell_type": "code",
      "source": [
        "data=s[s['Inns']==1]['runs'].mean()\n",
        "z=(data-mu)/(std/(len(s[s['Inns']==1]['runs'])**(0.5)))\n",
        "p_value=1-norm.cdf(z) #taking significance level(alpha)=0.01\n",
        "if p_value<0.01:\n",
        "  print('reject h0')\n",
        "else:\n",
        "  print('Stick to null hypothesis')\n",
        "  print('No difference between first innings and overall match')\n",
        "\n",
        "#H0:sachin did not score more than mean\n",
        "#Ha:sachin  scores more than usual mean\n"
      ],
      "metadata": {
        "colab": {
          "base_uri": "https://localhost:8080/"
        },
        "id": "Tccx8h5MN0jq",
        "outputId": "f321e20a-95d3-44a4-d090-6ddf358b05af"
      },
      "execution_count": 7,
      "outputs": [
        {
          "output_type": "stream",
          "name": "stdout",
          "text": [
            "Stick to null hypothesis\n",
            "No difference between first innings and overall match\n"
          ]
        }
      ]
    },
    {
      "cell_type": "code",
      "source": [
        "data=s[s['Inns']==2]['runs'].mean()\n",
        "z=(data-mu)/(std/(len(s[s['Inns']==2]['runs'])**(0.5)))\n",
        "p_value=1-norm.cdf(z) #taking significance level(alpha)=0.01\n",
        "if p_value<0.01:\n",
        "  print('reject h0')\n",
        "else:\n",
        "  print('Stick to null hypothesis')\n",
        "  print('No difference between second innings and overall match')\n"
      ],
      "metadata": {
        "colab": {
          "base_uri": "https://localhost:8080/"
        },
        "id": "tAgsLXCnRNhl",
        "outputId": "ee56b036-23e4-468c-ea47-1da17d2f0939"
      },
      "execution_count": 8,
      "outputs": [
        {
          "output_type": "stream",
          "name": "stdout",
          "text": [
            "Stick to null hypothesis\n",
            "No difference between second innings and overall match\n"
          ]
        }
      ]
    },
    {
      "cell_type": "markdown",
      "source": [
        "# India winning match - does sachin score high"
      ],
      "metadata": {
        "id": "CWUPiRqjU058"
      }
    },
    {
      "cell_type": "code",
      "source": [
        "s.groupby(['Won'])['runs'].mean()"
      ],
      "metadata": {
        "colab": {
          "base_uri": "https://localhost:8080/"
        },
        "id": "14GLoOj-ReP4",
        "outputId": "fe0d9c2c-5774-4b19-8760-b8451a6abb70"
      },
      "execution_count": 9,
      "outputs": [
        {
          "output_type": "execute_result",
          "data": {
            "text/plain": [
              "Won\n",
              "False    35.130682\n",
              "True     51.000000\n",
              "Name: runs, dtype: float64"
            ]
          },
          "metadata": {},
          "execution_count": 9
        }
      ]
    },
    {
      "cell_type": "code",
      "source": [
        "data=s[s['Won']==True]['runs'].mean()\n",
        "z=(data-mu)/(std/len(s[s['Won']==True])**0.5)\n",
        "p_value=1-norm.cdf(z) #taking significance level(alpha)=0.01\n",
        "print(p_value)\n",
        "if p_value<0.01:\n",
        "  print('reject h0')\n",
        "else:\n",
        "  print('Stick to null hypothesis')\n",
        "  print('No difference between second innings and overall match')\n",
        "#H0:sachin did not score higher when india won match\n",
        "#Ha:sachin  score higher when india won match\n"
      ],
      "metadata": {
        "colab": {
          "base_uri": "https://localhost:8080/"
        },
        "id": "bP3Vhbz0VG1V",
        "outputId": "81a63c37-acb3-4a53-eb71-e111476586fc"
      },
      "execution_count": 10,
      "outputs": [
        {
          "output_type": "stream",
          "name": "stdout",
          "text": [
            "0.0063004085704118085\n",
            "reject h0\n"
          ]
        }
      ]
    },
    {
      "cell_type": "code",
      "source": [
        "from statsmodels.stats.weightstats import ztest \n",
        "data=s[s['Won']==True]['runs']\n",
        "mu=s['runs'].mean()\n",
        "\n",
        "ztest(data,value=mu,alternative=\"larger\")\n"
      ],
      "metadata": {
        "colab": {
          "base_uri": "https://localhost:8080/"
        },
        "id": "i42vGj3kVXyd",
        "outputId": "9925f2ee-9cec-46ca-8da0-6aee6aca02e3"
      },
      "execution_count": 20,
      "outputs": [
        {
          "output_type": "execute_result",
          "data": {
            "text/plain": [
              "(2.3569505853039323, 0.009212849290106814)"
            ]
          },
          "metadata": {},
          "execution_count": 20
        }
      ]
    },
    {
      "cell_type": "code",
      "source": [
        "ttest_1samp(data,popmean=mu,alternative='greater')#ttest \n"
      ],
      "metadata": {
        "colab": {
          "base_uri": "https://localhost:8080/"
        },
        "id": "P-PNsSr_XWJG",
        "outputId": "b623b7a8-215c-4c38-ca6d-fcdcde38f6e1"
      },
      "execution_count": 22,
      "outputs": [
        {
          "output_type": "execute_result",
          "data": {
            "text/plain": [
              "Ttest_1sampResult(statistic=2.3569505853039323, pvalue=0.009741294559239283)"
            ]
          },
          "metadata": {},
          "execution_count": 22
        }
      ]
    },
    {
      "cell_type": "markdown",
      "source": [
        "for larger n both ztest and ttest are equal"
      ],
      "metadata": {
        "id": "v33pZmlvSI3d"
      }
    },
    {
      "cell_type": "code",
      "source": [],
      "metadata": {
        "id": "9zkyKVF7RkVy"
      },
      "execution_count": null,
      "outputs": []
    }
  ]
}