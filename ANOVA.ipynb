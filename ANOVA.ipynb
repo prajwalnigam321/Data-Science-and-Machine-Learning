{
  "cells": [
    {
      "cell_type": "markdown",
      "metadata": {
        "id": "view-in-github",
        "colab_type": "text"
      },
      "source": [
        "<a href=\"https://colab.research.google.com/github/prajwalnigam321/Data-Science-and-Machine-Learning/blob/main/ANOVA.ipynb\" target=\"_parent\"><img src=\"https://colab.research.google.com/assets/colab-badge.svg\" alt=\"Open In Colab\"/></a>"
      ]
    },
    {
      "cell_type": "code",
      "execution_count": null,
      "id": "b987a3bf",
      "metadata": {
        "id": "b987a3bf"
      },
      "outputs": [],
      "source": [
        "import numpy as np\n",
        "import pandas as pd\n",
        "import seaborn as sns\n",
        "import matplotlib.pyplot as plt\n",
        "\n",
        "from scipy.stats import ttest_1samp # 1 sample t test\n",
        "from scipy.stats import ttest_ind # Takes data as input and returns stat and p\n",
        "from scipy.stats import ttest_ind_from_stats # Takes sample means, std, n and returns stat and p"
      ]
    },
    {
      "cell_type": "markdown",
      "id": "d0e2934d",
      "metadata": {
        "id": "d0e2934d"
      },
      "source": [
        "### Problem Solving Hints\n",
        "We have code to do the following:\n",
        " 1. ttest one sample.\n",
        " 2. ttest two sample from data.\n",
        " 3. ttest two sample from descriptive stats."
      ]
    },
    {
      "cell_type": "code",
      "execution_count": null,
      "id": "973bc985",
      "metadata": {
        "id": "973bc985"
      },
      "outputs": [],
      "source": [
        "## From the scratch implementation of ttest_ind\n",
        "# EQUIVALENT FUNCTION: scipy.stats.ttest_ind\n",
        "from scipy.stats import t\n",
        "\n",
        "def ttest_ind_from_data(d1, d2, alternative=\"two-sided\"):\n",
        "    \"\"\"\n",
        "    d1: pandas Series\n",
        "    d2: pandas Series\n",
        "    alternative: {‘two-sided’, ‘less’, ‘greater’}, optional\n",
        "    \"\"\"\n",
        "    n1 = len(d1)\n",
        "    n2 = len(d2)\n",
        "    \n",
        "    m1 = d1.mean()\n",
        "    m2 = d2.mean()\n",
        "    \n",
        "    s1 = d1.std()\n",
        "    s2 = d2.std()\n",
        "    \n",
        "    df = n1 + n2 - 2\n",
        "    \n",
        "    s = np.sqrt((((n1-1)*(s1**2)) + ((n2-1)*(s2**2))) / (n1 + n2 - 2))\n",
        "    \n",
        "    t_stat = (m1 - m2) / (s*np.sqrt(1/n1+ 1/n2))\n",
        "    \n",
        "    if alternative == \"two-sided\":\n",
        "        p_value = 2*(1 - t.cdf(t_stat, df=df))\n",
        "    if alternative == \"less\":\n",
        "        p_value = t.cdf(t_stat, df=df)\n",
        "    if alternative == \"greater\":\n",
        "        p_value = 1 - t.cdf(t_stat, df=df)\n",
        "    print(\"T-stat = \", t_stat)\n",
        "    print(\"P-value = \", p_value)"
      ]
    },
    {
      "cell_type": "code",
      "execution_count": null,
      "id": "7eb556a4",
      "metadata": {
        "id": "7eb556a4"
      },
      "outputs": [],
      "source": [
        "# EQUIVALENT FUNCTION: scipy.stats.ttest_ind_from_stats\n",
        "def ttest_ind_from_mean_and_std_dev(m1, s1, n1, m2, s2, n2, alternative=\"two-sided\"):\n",
        "    \"\"\"\n",
        "    m1, m2: mean of first and second set of samples respectively\n",
        "    n1, n2: number of samples in first and second set respectively\n",
        "    s1, s2: sample standard deviations of first and second set respectively\n",
        "    alternative: {‘two-sided’, ‘less’, ‘greater’}, optional\n",
        "    \"\"\"\n",
        "    df = n1 + n2 - 2\n",
        "    \n",
        "    s = np.sqrt((((n1-1)*(s1**2)) + ((n2-1)*(s2**2))) / (n1 + n2 - 2))\n",
        "    \n",
        "    t_stat = (m1 - m2) / (s*np.sqrt(1/n1+ 1/n2))\n",
        "    \n",
        "    if alternative == \"two-sided\":\n",
        "        p_value = 2*(1 - t.cdf(t_stat, df=df))\n",
        "    if alternative == \"less\":\n",
        "        p_value = t.cdf(t_stat, df=df)\n",
        "    if alternative == \"greater\":\n",
        "        p_value = 1 - t.cdf(t_stat, df=df)\n",
        "    print(\"T-stat = \", t_stat)\n",
        "    print(\"P-value = \", p_value)"
      ]
    },
    {
      "cell_type": "markdown",
      "id": "1222caff",
      "metadata": {
        "id": "1222caff"
      },
      "source": [
        "## Coin example - Chi-square test"
      ]
    },
    {
      "cell_type": "code",
      "execution_count": null,
      "id": "015863c0",
      "metadata": {
        "id": "015863c0",
        "outputId": "e3ee1d78-247c-42e6-e1f9-61d4e86cdfdb"
      },
      "outputs": [
        {
          "name": "stdout",
          "output_type": "stream",
          "text": [
            "p-value:  0.3961439091520741\n"
          ]
        }
      ],
      "source": [
        "from scipy.stats import chi2\n",
        "\n",
        "stat = 0.72\n",
        "print(\"p-value: \", 1 - chi2.cdf(stat, df=1))"
      ]
    },
    {
      "cell_type": "code",
      "execution_count": null,
      "id": "a6be811b",
      "metadata": {
        "id": "a6be811b",
        "outputId": "8dd95a3a-f3dd-4adc-b93d-c0ac0f1d74c4"
      },
      "outputs": [
        {
          "name": "stdout",
          "output_type": "stream",
          "text": [
            "3.841458820694124\n"
          ]
        }
      ],
      "source": [
        "## Assume a stat significance of alpha = 95%\n",
        "print(chi2.ppf(0.95, df = 1))"
      ]
    },
    {
      "cell_type": "code",
      "execution_count": null,
      "id": "78227016",
      "metadata": {
        "id": "78227016",
        "outputId": "985758e1-f295-42a5-9805-4425cf962779"
      },
      "outputs": [
        {
          "name": "stdout",
          "output_type": "stream",
          "text": [
            "0.72\n",
            "0.3961439091520741\n"
          ]
        }
      ],
      "source": [
        "from scipy.stats import chisquare\n",
        "\n",
        "chi_stat, p_value = chisquare([28, 22], [25, 25])\n",
        "print(chi_stat)\n",
        "print(p_value)"
      ]
    },
    {
      "cell_type": "code",
      "execution_count": null,
      "id": "17508870",
      "metadata": {
        "id": "17508870",
        "outputId": "15846ffe-f9d1-4831-89f3-ebcfe26b5283"
      },
      "outputs": [
        {
          "name": "stdout",
          "output_type": "stream",
          "text": [
            "32.0\n",
            "1.5417257900280013e-08\n"
          ]
        }
      ],
      "source": [
        "from scipy.stats import chisquare\n",
        "\n",
        "chi_stat, p_value = chisquare([45, 5], [25, 25])\n",
        "print(chi_stat)\n",
        "print(p_value)"
      ]
    },
    {
      "cell_type": "markdown",
      "id": "9bd2c9ac",
      "metadata": {
        "id": "9bd2c9ac"
      },
      "source": [
        "### Dice example"
      ]
    },
    {
      "cell_type": "code",
      "execution_count": null,
      "id": "a7c6c393",
      "metadata": {
        "id": "a7c6c393",
        "outputId": "1e52f720-751e-4fb4-e73e-39acd4195fdd"
      },
      "outputs": [
        {
          "name": "stdout",
          "output_type": "stream",
          "text": [
            "Reject the null hypothesis, dice is biased\n"
          ]
        }
      ],
      "source": [
        "## p-value of the dice example\n",
        "alpha = 0.1\n",
        "p_value = 1 - chi2.cdf(9.67, df = 5)\n",
        "if p_value < alpha:\n",
        "    print(\"Reject the null hypothesis, dice is biased\")\n",
        "else:\n",
        "    print(\"Fail to reject the null hypothesis, dice is fair\")"
      ]
    },
    {
      "cell_type": "code",
      "execution_count": null,
      "id": "387a83b1",
      "metadata": {
        "id": "387a83b1",
        "outputId": "fbb747e1-dcf4-4d68-dbeb-64509e504251"
      },
      "outputs": [
        {
          "name": "stdout",
          "output_type": "stream",
          "text": [
            "Chi2 stat: 9.666666666666666\n",
            "Critical value: 9.666666666666666\n",
            "p-value:  0.08525020077588863\n",
            "Reject the null hypothesis, dice is biased\n"
          ]
        }
      ],
      "source": [
        "crit_val = chi2.ppf(0.9, df=5)\n",
        "\n",
        "chi_stat, p_value = chisquare([2, 4, 8, 9, 3, 10], [6]*6)\n",
        "print(\"Chi2 stat:\", chi_stat)\n",
        "print(\"Critical value:\", chi_stat)\n",
        "print(\"p-value: \", p_value)\n",
        "\n",
        "if chi_stat > crit_val:\n",
        "    print(\"Reject the null hypothesis, dice is biased\")\n",
        "else:\n",
        "    print(\"Fail to reject the null hypothesis, dice is fair\")"
      ]
    },
    {
      "cell_type": "markdown",
      "id": "936881a3",
      "metadata": {
        "id": "936881a3"
      },
      "source": [
        "### Gender vs. Buying preference"
      ]
    },
    {
      "cell_type": "code",
      "execution_count": null,
      "id": "5aef33bb",
      "metadata": {
        "id": "5aef33bb",
        "outputId": "6efa7597-a70a-46d6-efe4-eaf7fd10b9b0"
      },
      "outputs": [
        {
          "name": "stdout",
          "output_type": "stream",
          "text": [
            "58.66319466554195\n",
            "1.1344741517267437e-12\n"
          ]
        }
      ],
      "source": [
        "from scipy.stats import chi2_contingency\n",
        "\n",
        "observed = [527, 72, 206, 102]\n",
        "expected = [484, 115, 249, 59]\n",
        "\n",
        "chi_stat, p_value = chisquare(observed, expected)\n",
        "print(chi_stat)\n",
        "print(p_value)"
      ]
    },
    {
      "cell_type": "code",
      "execution_count": null,
      "id": "dccb944b",
      "metadata": {
        "id": "dccb944b",
        "outputId": "7a46ce2e-b81c-4948-e102-1ce0ca63f2d0"
      },
      "outputs": [
        {
          "name": "stdout",
          "output_type": "stream",
          "text": [
            "57.04098674049609 4.268230756875865e-14\n"
          ]
        }
      ],
      "source": [
        "from scipy.stats import chi2_contingency\n",
        "\n",
        "observed = [\n",
        "    [527, 72],\n",
        "    [206, 102]\n",
        "]\n",
        "\n",
        "chi_stat, p_value, df, exp_freq = chi2_contingency(observed)\n",
        "print(chi_stat, p_value)"
      ]
    },
    {
      "cell_type": "markdown",
      "id": "83c031ab",
      "metadata": {
        "id": "83c031ab"
      },
      "source": [
        "### Aerofit Dataset"
      ]
    },
    {
      "cell_type": "code",
      "execution_count": null,
      "id": "648ca677",
      "metadata": {
        "id": "648ca677"
      },
      "outputs": [],
      "source": [
        "df_aerofit = pd.read_csv(\"aerofit.csv\")"
      ]
    },
    {
      "cell_type": "code",
      "execution_count": null,
      "id": "bd6f0a38",
      "metadata": {
        "id": "bd6f0a38",
        "outputId": "618a8e07-1aa1-4f49-8ea9-e4fa71912707"
      },
      "outputs": [
        {
          "data": {
            "text/html": [
              "<div>\n",
              "<style scoped>\n",
              "    .dataframe tbody tr th:only-of-type {\n",
              "        vertical-align: middle;\n",
              "    }\n",
              "\n",
              "    .dataframe tbody tr th {\n",
              "        vertical-align: top;\n",
              "    }\n",
              "\n",
              "    .dataframe thead th {\n",
              "        text-align: right;\n",
              "    }\n",
              "</style>\n",
              "<table border=\"1\" class=\"dataframe\">\n",
              "  <thead>\n",
              "    <tr style=\"text-align: right;\">\n",
              "      <th></th>\n",
              "      <th>Product</th>\n",
              "      <th>Age</th>\n",
              "      <th>Gender</th>\n",
              "      <th>Education</th>\n",
              "      <th>MaritalStatus</th>\n",
              "      <th>Usage</th>\n",
              "      <th>Fitness</th>\n",
              "      <th>Income</th>\n",
              "      <th>Miles</th>\n",
              "    </tr>\n",
              "  </thead>\n",
              "  <tbody>\n",
              "    <tr>\n",
              "      <th>0</th>\n",
              "      <td>KP281</td>\n",
              "      <td>18</td>\n",
              "      <td>Male</td>\n",
              "      <td>14</td>\n",
              "      <td>Single</td>\n",
              "      <td>3</td>\n",
              "      <td>4</td>\n",
              "      <td>29562</td>\n",
              "      <td>112</td>\n",
              "    </tr>\n",
              "    <tr>\n",
              "      <th>1</th>\n",
              "      <td>KP281</td>\n",
              "      <td>19</td>\n",
              "      <td>Male</td>\n",
              "      <td>15</td>\n",
              "      <td>Single</td>\n",
              "      <td>2</td>\n",
              "      <td>3</td>\n",
              "      <td>31836</td>\n",
              "      <td>75</td>\n",
              "    </tr>\n",
              "    <tr>\n",
              "      <th>2</th>\n",
              "      <td>KP281</td>\n",
              "      <td>19</td>\n",
              "      <td>Female</td>\n",
              "      <td>14</td>\n",
              "      <td>Partnered</td>\n",
              "      <td>4</td>\n",
              "      <td>3</td>\n",
              "      <td>30699</td>\n",
              "      <td>66</td>\n",
              "    </tr>\n",
              "    <tr>\n",
              "      <th>3</th>\n",
              "      <td>KP281</td>\n",
              "      <td>19</td>\n",
              "      <td>Male</td>\n",
              "      <td>12</td>\n",
              "      <td>Single</td>\n",
              "      <td>3</td>\n",
              "      <td>3</td>\n",
              "      <td>32973</td>\n",
              "      <td>85</td>\n",
              "    </tr>\n",
              "    <tr>\n",
              "      <th>4</th>\n",
              "      <td>KP281</td>\n",
              "      <td>20</td>\n",
              "      <td>Male</td>\n",
              "      <td>13</td>\n",
              "      <td>Partnered</td>\n",
              "      <td>4</td>\n",
              "      <td>2</td>\n",
              "      <td>35247</td>\n",
              "      <td>47</td>\n",
              "    </tr>\n",
              "  </tbody>\n",
              "</table>\n",
              "</div>"
            ],
            "text/plain": [
              "  Product  Age  Gender  Education MaritalStatus  Usage  Fitness  Income  Miles\n",
              "0   KP281   18    Male         14        Single      3        4   29562    112\n",
              "1   KP281   19    Male         15        Single      2        3   31836     75\n",
              "2   KP281   19  Female         14     Partnered      4        3   30699     66\n",
              "3   KP281   19    Male         12        Single      3        3   32973     85\n",
              "4   KP281   20    Male         13     Partnered      4        2   35247     47"
            ]
          },
          "execution_count": 19,
          "metadata": {},
          "output_type": "execute_result"
        }
      ],
      "source": [
        "df_aerofit.head()"
      ]
    },
    {
      "cell_type": "markdown",
      "id": "3ed1c816",
      "metadata": {
        "id": "3ed1c816"
      },
      "source": [
        "## Income vs. Product\n",
        "If we know the income, can we predice which product is bought?"
      ]
    },
    {
      "cell_type": "code",
      "execution_count": null,
      "id": "c123d1d4",
      "metadata": {
        "id": "c123d1d4",
        "outputId": "f73089c3-ffa6-4f83-9625-ae09b9ae519f"
      },
      "outputs": [
        {
          "data": {
            "text/plain": [
              "<AxesSubplot:xlabel='Product', ylabel='Income'>"
            ]
          },
          "execution_count": 24,
          "metadata": {},
          "output_type": "execute_result"
        },
        {
          "data": {
            "image/png": "[encoded data removed]",
            "text/plain": [
              "<Figure size 432x288 with 1 Axes>"
            ]
          },
          "metadata": {
            "needs_background": "light"
          },
          "output_type": "display_data"
        }
      ],
      "source": [
        "sns.boxplot(x='Product', y='Income', data=df_aerofit)"
      ]
    },
    {
      "cell_type": "markdown",
      "id": "e48e6a6f",
      "metadata": {
        "id": "e48e6a6f"
      },
      "source": [
        "### Step 1: Convert the continuous variable income to a categorical variable"
      ]
    },
    {
      "cell_type": "code",
      "execution_count": null,
      "id": "d92463c2",
      "metadata": {
        "id": "d92463c2"
      },
      "outputs": [],
      "source": [
        "bins = [0, df_aerofit[\"Income\"].median(), df_aerofit[\"Income\"].max()]\n",
        "labels = [\"low\", \"high\"]\n",
        "df_aerofit[\"Income_bin\"] = pd.cut(df_aerofit[\"Income\"], bins, labels=labels)"
      ]
    },
    {
      "cell_type": "code",
      "execution_count": null,
      "id": "6d08cbfb",
      "metadata": {
        "id": "6d08cbfb",
        "outputId": "13ed57f3-c236-4510-fd2f-ba1716195f99"
      },
      "outputs": [
        {
          "data": {
            "text/html": [
              "<div>\n",
              "<style scoped>\n",
              "    .dataframe tbody tr th:only-of-type {\n",
              "        vertical-align: middle;\n",
              "    }\n",
              "\n",
              "    .dataframe tbody tr th {\n",
              "        vertical-align: top;\n",
              "    }\n",
              "\n",
              "    .dataframe thead th {\n",
              "        text-align: right;\n",
              "    }\n",
              "</style>\n",
              "<table border=\"1\" class=\"dataframe\">\n",
              "  <thead>\n",
              "    <tr style=\"text-align: right;\">\n",
              "      <th></th>\n",
              "      <th>Product</th>\n",
              "      <th>Age</th>\n",
              "      <th>Gender</th>\n",
              "      <th>Education</th>\n",
              "      <th>MaritalStatus</th>\n",
              "      <th>Usage</th>\n",
              "      <th>Fitness</th>\n",
              "      <th>Income</th>\n",
              "      <th>Miles</th>\n",
              "      <th>Income_bin</th>\n",
              "    </tr>\n",
              "  </thead>\n",
              "  <tbody>\n",
              "    <tr>\n",
              "      <th>0</th>\n",
              "      <td>KP281</td>\n",
              "      <td>18</td>\n",
              "      <td>Male</td>\n",
              "      <td>14</td>\n",
              "      <td>Single</td>\n",
              "      <td>3</td>\n",
              "      <td>4</td>\n",
              "      <td>29562</td>\n",
              "      <td>112</td>\n",
              "      <td>low</td>\n",
              "    </tr>\n",
              "    <tr>\n",
              "      <th>1</th>\n",
              "      <td>KP281</td>\n",
              "      <td>19</td>\n",
              "      <td>Male</td>\n",
              "      <td>15</td>\n",
              "      <td>Single</td>\n",
              "      <td>2</td>\n",
              "      <td>3</td>\n",
              "      <td>31836</td>\n",
              "      <td>75</td>\n",
              "      <td>low</td>\n",
              "    </tr>\n",
              "    <tr>\n",
              "      <th>2</th>\n",
              "      <td>KP281</td>\n",
              "      <td>19</td>\n",
              "      <td>Female</td>\n",
              "      <td>14</td>\n",
              "      <td>Partnered</td>\n",
              "      <td>4</td>\n",
              "      <td>3</td>\n",
              "      <td>30699</td>\n",
              "      <td>66</td>\n",
              "      <td>low</td>\n",
              "    </tr>\n",
              "    <tr>\n",
              "      <th>3</th>\n",
              "      <td>KP281</td>\n",
              "      <td>19</td>\n",
              "      <td>Male</td>\n",
              "      <td>12</td>\n",
              "      <td>Single</td>\n",
              "      <td>3</td>\n",
              "      <td>3</td>\n",
              "      <td>32973</td>\n",
              "      <td>85</td>\n",
              "      <td>low</td>\n",
              "    </tr>\n",
              "    <tr>\n",
              "      <th>4</th>\n",
              "      <td>KP281</td>\n",
              "      <td>20</td>\n",
              "      <td>Male</td>\n",
              "      <td>13</td>\n",
              "      <td>Partnered</td>\n",
              "      <td>4</td>\n",
              "      <td>2</td>\n",
              "      <td>35247</td>\n",
              "      <td>47</td>\n",
              "      <td>low</td>\n",
              "    </tr>\n",
              "  </tbody>\n",
              "</table>\n",
              "</div>"
            ],
            "text/plain": [
              "  Product  Age  Gender  Education MaritalStatus  Usage  Fitness  Income  \\\n",
              "0   KP281   18    Male         14        Single      3        4   29562   \n",
              "1   KP281   19    Male         15        Single      2        3   31836   \n",
              "2   KP281   19  Female         14     Partnered      4        3   30699   \n",
              "3   KP281   19    Male         12        Single      3        3   32973   \n",
              "4   KP281   20    Male         13     Partnered      4        2   35247   \n",
              "\n",
              "   Miles Income_bin  \n",
              "0    112        low  \n",
              "1     75        low  \n",
              "2     66        low  \n",
              "3     85        low  \n",
              "4     47        low  "
            ]
          },
          "execution_count": 27,
          "metadata": {},
          "output_type": "execute_result"
        }
      ],
      "source": [
        "df_aerofit.head()"
      ]
    },
    {
      "cell_type": "markdown",
      "id": "535fea5a",
      "metadata": {
        "id": "535fea5a"
      },
      "source": [
        "### Step 2: Define the contingency table"
      ]
    },
    {
      "cell_type": "code",
      "execution_count": null,
      "id": "ddf85f2a",
      "metadata": {
        "id": "ddf85f2a",
        "outputId": "4b7c09fd-446f-453c-9319-9b6d588e07ad"
      },
      "outputs": [
        {
          "data": {
            "text/html": [
              "<div>\n",
              "<style scoped>\n",
              "    .dataframe tbody tr th:only-of-type {\n",
              "        vertical-align: middle;\n",
              "    }\n",
              "\n",
              "    .dataframe tbody tr th {\n",
              "        vertical-align: top;\n",
              "    }\n",
              "\n",
              "    .dataframe thead th {\n",
              "        text-align: right;\n",
              "    }\n",
              "</style>\n",
              "<table border=\"1\" class=\"dataframe\">\n",
              "  <thead>\n",
              "    <tr style=\"text-align: right;\">\n",
              "      <th>Product</th>\n",
              "      <th>KP281</th>\n",
              "      <th>KP481</th>\n",
              "      <th>KP781</th>\n",
              "    </tr>\n",
              "    <tr>\n",
              "      <th>Income_bin</th>\n",
              "      <th></th>\n",
              "      <th></th>\n",
              "      <th></th>\n",
              "    </tr>\n",
              "  </thead>\n",
              "  <tbody>\n",
              "    <tr>\n",
              "      <th>low</th>\n",
              "      <td>50</td>\n",
              "      <td>35</td>\n",
              "      <td>5</td>\n",
              "    </tr>\n",
              "    <tr>\n",
              "      <th>high</th>\n",
              "      <td>30</td>\n",
              "      <td>25</td>\n",
              "      <td>35</td>\n",
              "    </tr>\n",
              "  </tbody>\n",
              "</table>\n",
              "</div>"
            ],
            "text/plain": [
              "Product     KP281  KP481  KP781\n",
              "Income_bin                     \n",
              "low            50     35      5\n",
              "high           30     25     35"
            ]
          },
          "execution_count": 33,
          "metadata": {},
          "output_type": "execute_result"
        }
      ],
      "source": [
        "income_bin_product = pd.crosstab(index=df_aerofit[\"Income_bin\"], columns=df_aerofit[\"Product\"])\n",
        "income_bin_product"
      ]
    },
    {
      "cell_type": "code",
      "execution_count": null,
      "id": "30a94366",
      "metadata": {
        "id": "30a94366",
        "outputId": "0f4877b1-ffad-409c-e439-2c6bcf9a29b2"
      },
      "outputs": [
        {
          "data": {
            "text/plain": [
              "(29.166666666666668,\n",
              " 4.640222499769401e-07,\n",
              " 2,\n",
              " array([[40., 30., 20.],\n",
              "        [40., 30., 20.]]))"
            ]
          },
          "execution_count": 34,
          "metadata": {},
          "output_type": "execute_result"
        }
      ],
      "source": [
        "# H0: income bin and product are independent\n",
        "# Ha: dependant\n",
        "chi2_contingency(income_bin_product) # chistat, p-value, df, expected"
      ]
    },
    {
      "cell_type": "markdown",
      "id": "404589b1",
      "metadata": {
        "id": "404589b1"
      },
      "source": [
        "## Gender vs. Income"
      ]
    },
    {
      "cell_type": "code",
      "execution_count": null,
      "id": "bbe54c2d",
      "metadata": {
        "id": "bbe54c2d",
        "outputId": "b9df58dc-5991-4bb7-bb6a-ea021917dd00"
      },
      "outputs": [
        {
          "data": {
            "text/html": [
              "<div>\n",
              "<style scoped>\n",
              "    .dataframe tbody tr th:only-of-type {\n",
              "        vertical-align: middle;\n",
              "    }\n",
              "\n",
              "    .dataframe tbody tr th {\n",
              "        vertical-align: top;\n",
              "    }\n",
              "\n",
              "    .dataframe thead th {\n",
              "        text-align: right;\n",
              "    }\n",
              "</style>\n",
              "<table border=\"1\" class=\"dataframe\">\n",
              "  <thead>\n",
              "    <tr style=\"text-align: right;\">\n",
              "      <th>Income_bin</th>\n",
              "      <th>low</th>\n",
              "      <th>high</th>\n",
              "    </tr>\n",
              "    <tr>\n",
              "      <th>Gender</th>\n",
              "      <th></th>\n",
              "      <th></th>\n",
              "    </tr>\n",
              "  </thead>\n",
              "  <tbody>\n",
              "    <tr>\n",
              "      <th>Female</th>\n",
              "      <td>46</td>\n",
              "      <td>30</td>\n",
              "    </tr>\n",
              "    <tr>\n",
              "      <th>Male</th>\n",
              "      <td>44</td>\n",
              "      <td>60</td>\n",
              "    </tr>\n",
              "  </tbody>\n",
              "</table>\n",
              "</div>"
            ],
            "text/plain": [
              "Income_bin  low  high\n",
              "Gender               \n",
              "Female       46    30\n",
              "Male         44    60"
            ]
          },
          "execution_count": 44,
          "metadata": {},
          "output_type": "execute_result"
        }
      ],
      "source": [
        "gender_income_product = pd.crosstab(index=df_aerofit[\"Gender\"], columns=df_aerofit[\"Income_bin\"])\n",
        "gender_income_product"
      ]
    },
    {
      "cell_type": "code",
      "execution_count": null,
      "id": "ef0ca1ec",
      "metadata": {
        "id": "ef0ca1ec",
        "outputId": "1f19abc0-6dd8-4033-acd3-4d280b17daa2"
      },
      "outputs": [
        {
          "data": {
            "text/plain": [
              "(5.123987854251012,\n",
              " 0.023597328751612016,\n",
              " 1,\n",
              " array([[38., 38.],\n",
              "        [52., 52.]]))"
            ]
          },
          "execution_count": 45,
          "metadata": {},
          "output_type": "execute_result"
        }
      ],
      "source": [
        "# H0: gender and income are independent\n",
        "# Ha: dependant\n",
        "chi2_contingency(gender_income_product) # chistat, p-value, df, expected"
      ]
    },
    {
      "cell_type": "code",
      "execution_count": null,
      "id": "678c8fe9",
      "metadata": {
        "id": "678c8fe9"
      },
      "outputs": [],
      "source": [
        "## With an alpha of 0.05, we conclude that income and gender are dependent"
      ]
    },
    {
      "cell_type": "markdown",
      "id": "ecb74f69",
      "metadata": {
        "id": "ecb74f69"
      },
      "source": [
        "### Doubt session question 1"
      ]
    },
    {
      "cell_type": "markdown",
      "id": "cdb69eac",
      "metadata": {
        "id": "cdb69eac"
      },
      "source": [
        "The average hourly wage of a sample of 150 workers in plant 'A' was Rs.2·87 with a standard deviation of Rs. 1·08.\n",
        "\n",
        "The average wage of a sample of 200 workers in plant 'B' was Rs. 2·56 with a standard deviation of Rs. 1·28.\n",
        "\n",
        "Can an applicant safely assume that the hourly wages paid by plant 'A' are higher than those paid by plant 'B' at a 1% significance level?"
      ]
    },
    {
      "cell_type": "code",
      "execution_count": null,
      "id": "91de8721",
      "metadata": {
        "id": "91de8721",
        "outputId": "3147046a-a455-4ca8-fa02-b891eab6c381"
      },
      "outputs": [
        {
          "name": "stdout",
          "output_type": "stream",
          "text": [
            "2.3947738234213953 0.008579470194694674\n",
            "Reject the null hypothesis, the two means are different\n"
          ]
        }
      ],
      "source": [
        "## 1-sample or 2? 2 sample test -> ttest_ind\n",
        "## data or stats? stats -> ttest_ind_from_stats\n",
        "## Left tailed or right tailed? -> right tailed, I want to show that A is greater than B\n",
        "## Significance level -> 1%, so alpha = 0.01\n",
        "\n",
        "mean_1 = 2.87\n",
        "std_dev_1 = 1.08\n",
        "n1 = 150\n",
        "\n",
        "mean_2 = 2.56\n",
        "std_dev_2 = 1.28\n",
        "n2 = 200\n",
        "\n",
        "alpha = 0.01\n",
        "\n",
        "t_stat, p_value = ttest_ind_from_stats(mean_1, std_dev_1, n1, mean_2, std_dev_2, n2, alternative=\"greater\")\n",
        "print(t_stat, p_value)\n",
        "\n",
        "if p_value < alpha:\n",
        "    print(\"Reject the null hypothesis, the two means are different\")\n",
        "else:\n",
        "    print(\"Accept the null hypothesis, the two means are the same\")"
      ]
    },
    {
      "cell_type": "code",
      "execution_count": null,
      "id": "1421b2db",
      "metadata": {
        "id": "1421b2db",
        "outputId": "a9d7cfe4-67f8-4b4d-a186-4e6459f671d1"
      },
      "outputs": [
        {
          "name": "stdout",
          "output_type": "stream",
          "text": [
            "T-stat =  2.3947738234213953\n",
            "P-value =  0.008579470194694738\n"
          ]
        }
      ],
      "source": [
        "ttest_ind_from_mean_and_std_dev(mean_1, std_dev_1, n1, mean_2, std_dev_2, n2, alternative=\"greater\")"
      ]
    },
    {
      "cell_type": "markdown",
      "id": "015f4c3d",
      "metadata": {
        "id": "015f4c3d"
      },
      "source": [
        "### How to calculate the p-value for a 2-tailed test?\n",
        "I am going to show how using the t-distribution, for the above question."
      ]
    },
    {
      "cell_type": "code",
      "execution_count": null,
      "id": "8949aa29",
      "metadata": {
        "id": "8949aa29",
        "outputId": "f45398a9-a529-45bf-d48c-9e2e3287bfdc"
      },
      "outputs": [
        {
          "name": "stdout",
          "output_type": "stream",
          "text": [
            "2.3947738234213953 0.017158940389389348\n",
            "Accept the null hypothesis, the two means are the same\n"
          ]
        }
      ],
      "source": [
        "## 1-sample or 2? 2 sample test -> ttest_ind\n",
        "## data or stats? stats -> ttest_ind_from_stats\n",
        "## Left tailed or right tailed? -> right tailed, I want to show that A is greater than B\n",
        "## Significance level -> 1%, so alpha = 0.01\n",
        "\n",
        "mean_1 = 2.87\n",
        "std_dev_1 = 1.08\n",
        "n1 = 150\n",
        "\n",
        "mean_2 = 2.56\n",
        "std_dev_2 = 1.28\n",
        "n2 = 200\n",
        "\n",
        "alpha = 0.01\n",
        "\n",
        "t_stat, p_value = ttest_ind_from_stats(mean_1, std_dev_1, n1, mean_2, std_dev_2, n2)\n",
        "print(t_stat, p_value)\n",
        "\n",
        "if p_value < alpha:\n",
        "    print(\"Reject the null hypothesis, the two means are different\")\n",
        "else:\n",
        "    print(\"Accept the null hypothesis, the two means are the same\")"
      ]
    },
    {
      "cell_type": "code",
      "execution_count": null,
      "id": "dda4b495",
      "metadata": {
        "id": "dda4b495"
      },
      "outputs": [],
      "source": [
        "m1 = 2.87\n",
        "s1 = 1.08\n",
        "n1 = 150\n",
        "\n",
        "m2 = 2.56\n",
        "s2 = 1.28\n",
        "n2 = 200\n",
        "\n",
        "df = n1 + n2 - 2\n",
        "    \n",
        "s = np.sqrt((((n1-1)*(s1**2)) + ((n2-1)*(s2**2))) / (n1 + n2 - 2))\n",
        "\n",
        "t_stat = (m1 - m2) / (s*np.sqrt(1/n1+ 1/n2))"
      ]
    },
    {
      "cell_type": "code",
      "execution_count": null,
      "id": "1cf12487",
      "metadata": {
        "id": "1cf12487",
        "outputId": "eeedca73-762b-41a3-d8a4-9b82726cb6ef"
      },
      "outputs": [
        {
          "name": "stdout",
          "output_type": "stream",
          "text": [
            "0.008579470194694674 0.008579470194694738 0.017158940389389414\n"
          ]
        }
      ],
      "source": [
        "neg = -1 * np.abs(t_stat)\n",
        "pos =  1 * np.abs(t_stat)\n",
        "\n",
        "dof = n1 + n2 - 2\n",
        "\n",
        "p_value_neg = t.cdf(neg, df=dof)\n",
        "p_value_pos = 1 - t.cdf(pos, df=dof)\n",
        "\n",
        "p_value = p_value_pos + p_value_neg\n",
        "\n",
        "print(p_value_neg, p_value_pos, p_value) # Should be 0.017158940389389348"
      ]
    },
    {
      "cell_type": "markdown",
      "id": "55646ef9",
      "metadata": {
        "id": "55646ef9"
      },
      "source": [
        "### Q2) Smokers\n",
        "When smokers smoke, nicotine is transformed into cotinine, which can be tested.\n",
        "\n",
        "The average cotinine level in a group of 50 smokers was 243.5 ng ml.\n",
        "\n",
        "Assuming that the standard deviation is known to be 229.5 ng ml, at 95 % confidence, test the assertion that the mean cotinine level of all smokers is equal to 300.0 ng ml."
      ]
    },
    {
      "cell_type": "code",
      "execution_count": null,
      "id": "f4e84319",
      "metadata": {
        "id": "f4e84319",
        "outputId": "fc07acf0-8a3c-4984-ba4c-1c2c5a21e6b7"
      },
      "outputs": [
        {
          "name": "stdout",
          "output_type": "stream",
          "text": [
            "1.740764025540937\n"
          ]
        }
      ],
      "source": [
        "m1 = 300\n",
        "s1 = 229.5\n",
        "n1 = 50\n",
        "\n",
        "m2 = 243.5\n",
        "s2 = 229.5\n",
        "n2 = 1000000\n",
        "\n",
        "df = n1 + n2 - 2\n",
        "    \n",
        "s = np.sqrt((((n1-1)*(s1**2)) + ((n2-1)*(s2**2))) / (n1 + n2 - 2))\n",
        "\n",
        "t_stat = (m1 - m2) / (s*np.sqrt(1/n1+ 1/n2))\n",
        "print(t_stat)"
      ]
    },
    {
      "cell_type": "code",
      "execution_count": null,
      "id": "b9e241c6",
      "metadata": {
        "id": "b9e241c6",
        "outputId": "ac1ea112-a9ed-401c-e57b-c88e0f32c228"
      },
      "outputs": [
        {
          "data": {
            "text/plain": [
              "2.009575234489209"
            ]
          },
          "execution_count": 71,
          "metadata": {},
          "output_type": "execute_result"
        }
      ],
      "source": [
        "t.ppf(0.975, df=n1 - 1)"
      ]
    },
    {
      "cell_type": "code",
      "execution_count": null,
      "id": "8ad1403b",
      "metadata": {
        "id": "8ad1403b"
      },
      "outputs": [],
      "source": []
    }
  ],
  "metadata": {
    "kernelspec": {
      "display_name": "Python 3 (ipykernel)",
      "language": "python",
      "name": "python3"
    },
    "language_info": {
      "codemirror_mode": {
        "name": "ipython",
        "version": 3
      },
      "file_extension": ".py",
      "mimetype": "text/x-python",
      "name": "python",
      "nbconvert_exporter": "python",
      "pygments_lexer": "ipython3",
      "version": "3.9.12"
    },
    "colab": {
      "provenance": [],
      "include_colab_link": true
    }
  },
  "nbformat": 4,
  "nbformat_minor": 5
}