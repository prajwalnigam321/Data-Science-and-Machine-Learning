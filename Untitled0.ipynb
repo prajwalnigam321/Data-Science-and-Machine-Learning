{
  "nbformat": 4,
  "nbformat_minor": 0,
  "metadata": {
    "colab": {
      "provenance": [],
      "authorship_tag": "ABX9TyN1o/884kAE7BZOumd2wu2S",
      "include_colab_link": true
    },
    "kernelspec": {
      "name": "python3",
      "display_name": "Python 3"
    },
    "language_info": {
      "name": "python"
    }
  },
  "cells": [
    {
      "cell_type": "markdown",
      "metadata": {
        "id": "view-in-github",
        "colab_type": "text"
      },
      "source": [
        "<a href=\"https://colab.research.google.com/github/prajwalnigam321/Data-Science-and-Machine-Learning/blob/main/Untitled0.ipynb\" target=\"_parent\"><img src=\"https://colab.research.google.com/assets/colab-badge.svg\" alt=\"Open In Colab\"/></a>"
      ]
    },
    {
      "cell_type": "code",
      "source": [
        "import pandas as pd\n",
        "\n",
        "# Load data from CSV files\n",
        "operator_tracking = pd.read_csv('operator_tracking(1).csv')\n",
        "styles_operation_list = pd.read_csv('styles_operation_list(1).csv')\n",
        "\n",
        "# Inspect the first few rows of each dataframe\n",
        "print(\"Operator Tracking Data:\")\n",
        "print(operator_tracking.head())\n",
        "\n",
        "print(\"\\nStyles Operation List Data:\")\n",
        "print(styles_operation_list.head())\n"
      ],
      "metadata": {
        "colab": {
          "base_uri": "https://localhost:8080/",
          "height": 0
        },
        "id": "XZYGSqPsCEWP",
        "outputId": "1a650faa-4243-4276-fa66-88333054cca9"
      },
      "execution_count": 7,
      "outputs": [
        {
          "output_type": "stream",
          "name": "stdout",
          "text": [
            "Operator Tracking Data:\n",
            "    id  operator_id  operation_id        date  bundle_number  style_id  \\\n",
            "0  181            4         22509  2022-03-28            181      8059   \n",
            "1  182            4         22509  2022-03-28            182      8059   \n",
            "2  183            4         22509  2022-03-28            183      8059   \n",
            "3  186          340         42664  2022-03-29            186      8059   \n",
            "4  187          340         42664  2022-03-29            187      8059   \n",
            "\n",
            "   floor_id  line_id  complete_piece  total_time  break_time  \\\n",
            "0         1        2               5           9           0   \n",
            "1         1        2               5          16           0   \n",
            "2         1        2               5           5           0   \n",
            "3        26       91              10         564           0   \n",
            "4        26       91              10         535           5   \n",
            "\n",
            "   off_standard_time  \n",
            "0                  0  \n",
            "1                  0  \n",
            "2                  0  \n",
            "3                  0  \n",
            "4                  0  \n",
            "\n",
            "Styles Operation List Data:\n",
            "       id  style_id  operation_id  sort_order    sam  rate  machine_id\n",
            "0  111743      5292            30         940  48.63   0.0         651\n",
            "1  208151      5542          3207           0   0.70   0.0         156\n",
            "2  208152      5542          3206           0   0.56   0.0         156\n",
            "3  208153      5542          3205           0   0.56   0.0         156\n",
            "4  208154      5542            30           0   1.10   0.0         156\n"
          ]
        }
      ]
    },
    {
      "cell_type": "code",
      "source": [
        "# Check for missing values\n",
        "print(\"\\nMissing values in operator_tracking:\")\n",
        "print(operator_tracking.isnull().sum())\n",
        "\n",
        "print(\"\\nMissing values in styles_operation_list:\")\n",
        "print(styles_operation_list.isnull().sum())\n",
        "\n",
        "# Convert time from seconds to minutes\n",
        "operator_tracking['total_time'] /= 60\n",
        "operator_tracking['break_time'] /= 60\n",
        "operator_tracking['off_standard_time'] /= 60\n"
      ],
      "metadata": {
        "colab": {
          "base_uri": "https://localhost:8080/",
          "height": 0
        },
        "id": "AeqtzI9XBMeW",
        "outputId": "b5307ec2-b344-41c7-9c5c-a9252d175918"
      },
      "execution_count": 8,
      "outputs": [
        {
          "output_type": "stream",
          "name": "stdout",
          "text": [
            "\n",
            "Missing values in operator_tracking:\n",
            "id                   0\n",
            "operator_id          0\n",
            "operation_id         0\n",
            "date                 0\n",
            "bundle_number        0\n",
            "style_id             0\n",
            "floor_id             0\n",
            "line_id              0\n",
            "complete_piece       0\n",
            "total_time           0\n",
            "break_time           0\n",
            "off_standard_time    0\n",
            "dtype: int64\n",
            "\n",
            "Missing values in styles_operation_list:\n",
            "id              0\n",
            "style_id        0\n",
            "operation_id    0\n",
            "sort_order      0\n",
            "sam             0\n",
            "rate            0\n",
            "machine_id      0\n",
            "dtype: int64\n"
          ]
        }
      ]
    },
    {
      "cell_type": "code",
      "source": [
        "# Attempt to merge on both style_id and operation_id\n",
        "merged_data = pd.merge(operator_tracking, styles_operation_list, on=['style_id', 'operation_id'], how='inner')\n",
        "\n",
        "# If no rows are returned, merge on style_id only\n",
        "if merged_data.empty:\n",
        "    merged_data = pd.merge(operator_tracking, styles_operation_list, on='style_id', how='inner')\n",
        "\n",
        "print(\"\\nMerged Data:\")\n",
        "print(merged_data.head())\n"
      ],
      "metadata": {
        "colab": {
          "base_uri": "https://localhost:8080/",
          "height": 0
        },
        "id": "q5lvM3DHCRaf",
        "outputId": "60d50e82-1494-46ae-a335-888cab3183ed"
      },
      "execution_count": 9,
      "outputs": [
        {
          "output_type": "stream",
          "name": "stdout",
          "text": [
            "\n",
            "Merged Data:\n",
            "   id_x  operator_id  operation_id_x        date  bundle_number  style_id  \\\n",
            "0   181            4           22509  2022-03-28            181      8059   \n",
            "1   181            4           22509  2022-03-28            181      8059   \n",
            "2   181            4           22509  2022-03-28            181      8059   \n",
            "3   181            4           22509  2022-03-28            181      8059   \n",
            "4   181            4           22509  2022-03-28            181      8059   \n",
            "\n",
            "   floor_id  line_id  complete_piece  total_time  break_time  \\\n",
            "0         1        2               5        0.15         0.0   \n",
            "1         1        2               5        0.15         0.0   \n",
            "2         1        2               5        0.15         0.0   \n",
            "3         1        2               5        0.15         0.0   \n",
            "4         1        2               5        0.15         0.0   \n",
            "\n",
            "   off_standard_time    id_y  operation_id_y  sort_order   sam  rate  \\\n",
            "0                0.0  167602            3207           0  0.70   0.0   \n",
            "1                0.0  167603            3206           0  0.56   0.0   \n",
            "2                0.0  167604            3205           0  0.56   0.0   \n",
            "3                0.0  167605              30           0  1.10   0.0   \n",
            "4                0.0  167606           12134           0  2.00   0.0   \n",
            "\n",
            "   machine_id  \n",
            "0         156  \n",
            "1         156  \n",
            "2         156  \n",
            "3         156  \n",
            "4         156  \n"
          ]
        }
      ]
    },
    {
      "cell_type": "code",
      "source": [
        "# Calculate production rate (pieces per minute)\n",
        "merged_data['production_rate'] = merged_data['complete_piece'] / merged_data['total_time']\n",
        "\n",
        "# Calculate actual time per piece\n",
        "merged_data['actual_time_per_piece'] = merged_data['total_time'] / merged_data['complete_piece']\n",
        "\n",
        "# Calculate efficiency\n",
        "merged_data['efficiency'] = (merged_data['sam'] / merged_data['actual_time_per_piece']) * 100\n",
        "\n",
        "print(\"\\nMerged Data with Calculations:\")\n",
        "print(merged_data.head())\n"
      ],
      "metadata": {
        "colab": {
          "base_uri": "https://localhost:8080/",
          "height": 0
        },
        "id": "GtGZ_8PRCbDC",
        "outputId": "d1d46c68-5984-446c-b80c-3e584628baba"
      },
      "execution_count": 10,
      "outputs": [
        {
          "output_type": "stream",
          "name": "stdout",
          "text": [
            "\n",
            "Merged Data with Calculations:\n",
            "   id_x  operator_id  operation_id_x        date  bundle_number  style_id  \\\n",
            "0   181            4           22509  2022-03-28            181      8059   \n",
            "1   181            4           22509  2022-03-28            181      8059   \n",
            "2   181            4           22509  2022-03-28            181      8059   \n",
            "3   181            4           22509  2022-03-28            181      8059   \n",
            "4   181            4           22509  2022-03-28            181      8059   \n",
            "\n",
            "   floor_id  line_id  complete_piece  total_time  ...  off_standard_time  \\\n",
            "0         1        2               5        0.15  ...                0.0   \n",
            "1         1        2               5        0.15  ...                0.0   \n",
            "2         1        2               5        0.15  ...                0.0   \n",
            "3         1        2               5        0.15  ...                0.0   \n",
            "4         1        2               5        0.15  ...                0.0   \n",
            "\n",
            "     id_y  operation_id_y  sort_order   sam  rate  machine_id  \\\n",
            "0  167602            3207           0  0.70   0.0         156   \n",
            "1  167603            3206           0  0.56   0.0         156   \n",
            "2  167604            3205           0  0.56   0.0         156   \n",
            "3  167605              30           0  1.10   0.0         156   \n",
            "4  167606           12134           0  2.00   0.0         156   \n",
            "\n",
            "   production_rate  actual_time_per_piece   efficiency  \n",
            "0        33.333333                   0.03  2333.333333  \n",
            "1        33.333333                   0.03  1866.666667  \n",
            "2        33.333333                   0.03  1866.666667  \n",
            "3        33.333333                   0.03  3666.666667  \n",
            "4        33.333333                   0.03  6666.666667  \n",
            "\n",
            "[5 rows x 21 columns]\n"
          ]
        }
      ]
    },
    {
      "cell_type": "code",
      "source": [
        "# Group by operator_id to analyze performance\n",
        "operator_performance = merged_data.groupby('operator_id').agg({\n",
        "    'efficiency': 'mean',\n",
        "    'production_rate': 'mean',\n",
        "    'total_time': 'sum',\n",
        "    'break_time': 'sum',\n",
        "    'off_standard_time': 'sum'\n",
        "}).reset_index()\n",
        "\n",
        "print(\"\\nOperator Performance:\")\n",
        "print(operator_performance)\n",
        "\n",
        "# Identify bottleneck operations\n",
        "operation_performance = merged_data.groupby('operation_id_x').agg({\n",
        "    'efficiency': 'mean',\n",
        "    'production_rate': 'mean',\n",
        "    'total_time': 'sum'\n",
        "}).reset_index()\n",
        "\n",
        "print(\"\\nOperation Performance:\")\n",
        "print(operation_performance)\n",
        "\n",
        "# Analyze performance by style\n",
        "style_performance = merged_data.groupby('style_id').agg({\n",
        "    'efficiency': 'mean',\n",
        "    'production_rate': 'mean',\n",
        "    'total_time': 'sum'\n",
        "}).reset_index()\n",
        "\n",
        "print(\"\\nStyle Performance:\")\n",
        "print(style_performance)\n"
      ],
      "metadata": {
        "colab": {
          "base_uri": "https://localhost:8080/",
          "height": 0
        },
        "id": "HaMpMl41C4b4",
        "outputId": "ec49ddb7-c688-4231-8714-b14cceab3b6c"
      },
      "execution_count": 16,
      "outputs": [
        {
          "output_type": "stream",
          "name": "stdout",
          "text": [
            "\n",
            "Operator Performance:\n",
            "    operator_id    efficiency  production_rate     total_time   break_time  \\\n",
            "0             4   2600.337592        43.747777     536.400000    33.200000   \n",
            "1           340    756.451640        13.916161  194573.916667  2441.183333   \n",
            "2          1008   3774.122449        70.714286      24.500000     0.000000   \n",
            "3          1053   7132.156136       127.522369     635.483333     0.000000   \n",
            "4          1096   7525.726994       146.081144      77.466667     0.000000   \n",
            "5          1104   9268.907240       168.061095     278.950000     0.000000   \n",
            "6          1111   9723.992579       178.160156     390.800000     0.000000   \n",
            "7          1114   8954.633847       155.380041     513.383333     0.000000   \n",
            "8          1117   8211.643218       148.854257     166.083333     0.000000   \n",
            "9          1121  10698.219938       204.224984      92.866667     0.000000   \n",
            "10         1124   8017.073740       148.289426     571.600000     0.000000   \n",
            "11         1129   5685.731560       107.563347    9871.500000     0.000000   \n",
            "12         1131   9623.908198       176.728372     142.166667     0.000000   \n",
            "13         1133   7652.633188       137.382175     221.700000     0.000000   \n",
            "14         1137   8218.829039       149.101210    4559.033333     0.000000   \n",
            "15         1138   5689.753439       100.899931     847.950000    54.583333   \n",
            "16         1195  10347.798282       183.653393    1101.450000     0.000000   \n",
            "17         2465  11648.978218       190.566337      54.633333     0.000000   \n",
            "18         2471  10554.925540       198.978462     349.883333     0.000000   \n",
            "19         2845   7583.926521       137.946569     956.033333     0.000000   \n",
            "20         2846   8367.413836       153.780294    1623.183333     0.000000   \n",
            "21         3143  10264.517197       181.173974     435.283333     0.000000   \n",
            "22         5324   8349.038500       151.199410    5149.533333     0.000000   \n",
            "23         5564   5451.510204       102.142857      24.500000     0.000000   \n",
            "24         5802   5760.271281       105.748929    5614.116667     0.000000   \n",
            "25         5804   9689.189019       160.689786     319.816667     0.000000   \n",
            "26         5805   8843.484080       160.566357     117.816667     0.000000   \n",
            "27         5939   4969.686163        89.366704    2190.366667     0.000000   \n",
            "28         8179   7829.055856       138.039249     395.183333     0.000000   \n",
            "29         8182   9209.341783       167.526540     434.016667     0.000000   \n",
            "30         8246    407.730698         7.551169  110788.350000  1479.450000   \n",
            "\n",
            "    off_standard_time  \n",
            "0            4.666667  \n",
            "1            0.000000  \n",
            "2            0.000000  \n",
            "3            0.000000  \n",
            "4            0.000000  \n",
            "5            0.000000  \n",
            "6            0.000000  \n",
            "7            0.000000  \n",
            "8            0.000000  \n",
            "9            0.000000  \n",
            "10           0.000000  \n",
            "11           0.000000  \n",
            "12           0.000000  \n",
            "13           0.000000  \n",
            "14           0.000000  \n",
            "15           0.000000  \n",
            "16           0.000000  \n",
            "17           0.000000  \n",
            "18           0.000000  \n",
            "19           0.000000  \n",
            "20           0.000000  \n",
            "21           0.000000  \n",
            "22           0.000000  \n",
            "23           0.000000  \n",
            "24           0.000000  \n",
            "25           0.000000  \n",
            "26           0.000000  \n",
            "27           0.000000  \n",
            "28           0.000000  \n",
            "29           0.000000  \n",
            "30           0.000000  \n",
            "\n",
            "Operation Performance:\n",
            "    operation_id_x    efficiency  production_rate     total_time\n",
            "0               35   4942.567568        87.500000       8.633333\n",
            "1              226   2380.551305        37.767169     484.266667\n",
            "2            22509   1949.219349        37.361111      43.500000\n",
            "3            28968   7583.926521       137.946569     956.033333\n",
            "4            28983   8211.643218       148.854257     166.083333\n",
            "5            28989   7220.783505       144.000000      16.166667\n",
            "6            29017   8017.073740       148.289426     571.600000\n",
            "7            29378   6233.406817       110.521171     334.450000\n",
            "8            29488   8349.038500       151.199410    5149.533333\n",
            "9            29504  10398.137703       183.427367     413.116667\n",
            "10           29506   6764.934153       129.461260      64.533333\n",
            "11           29507   7829.055856       138.039249     395.183333\n",
            "12           29508   4310.769231        80.769231      22.166667\n",
            "13           29511   8954.633847       155.380041     513.383333\n",
            "14           29514   8367.413836       153.780294    1623.183333\n",
            "15           29516  11648.978218       190.566337      54.633333\n",
            "16           29528   5685.731560       107.563347    9871.500000\n",
            "17           29544   9268.907240       168.061095     278.950000\n",
            "18           29706    436.984143         8.102302     495.000000\n",
            "19           33112   4859.631528        86.624729    2129.916667\n",
            "20           33858   8264.732508       149.335832    4542.866667\n",
            "21           34187   3774.122449        70.714286      24.500000\n",
            "22           34188   5451.510204       102.142857      24.500000\n",
            "23           35470   9828.000000        45.000000       0.666667\n",
            "24           36347   4370.497513        81.905717    3618.683333\n",
            "25           36360   7373.673428       133.428750    1995.433333\n",
            "26           36365   8078.845195       141.790081     132.916667\n",
            "27           39332  10698.219938       204.224984      92.866667\n",
            "28           39511   6932.432432       122.727273      18.500000\n",
            "29           40345   7652.633188       137.382175     221.700000\n",
            "30           41409    104.550925         1.850902    1473.833333\n",
            "31           42664    756.451640        13.916161  194573.916667\n",
            "32           43605    348.416422         6.437832  107003.350000\n",
            "33           43606   2741.742876        51.370985    2311.166667\n",
            "34           44007   9723.992579       178.160156     390.800000\n",
            "35           44008   9209.341783       167.526540     434.016667\n",
            "36           44011   8843.484080       160.566357     117.816667\n",
            "37           44012   6490.400000       127.254795      60.450000\n",
            "38           44014   9689.189019       160.689786     319.816667\n",
            "39           44016   9627.711340       192.000000      12.933333\n",
            "40           44018  10347.798282       183.653393    1101.450000\n",
            "41           44019   9623.908198       176.728372     142.166667\n",
            "42           44021  10554.925540       198.978462     349.883333\n",
            "43           45087   6560.593512       119.245839     501.900000\n",
            "\n",
            "Style Performance:\n",
            "    style_id    efficiency  production_rate    total_time\n",
            "0       7654   5961.622760       111.700641  95655.000000\n",
            "1       7759   9502.720062       149.147870   1970.733333\n",
            "2       8043   1287.015070        23.863073    511.250000\n",
            "3       8044   4566.923032        80.849834  48933.733333\n",
            "4       8045   7847.326496       140.969937   1830.000000\n",
            "5       8059   7099.188937       136.071698  28972.450000\n",
            "6       8309  27459.078786       125.728383    252.583333\n",
            "7       8447   8390.278029       148.904603  10317.500000\n",
            "8       8632   8532.358630       134.533770  31476.366667\n",
            "9       8691   6323.476951       126.105523  56698.116667\n",
            "10      8702   7615.417597       137.287486  15704.600000\n",
            "11      8813   7197.785740       132.860101   6736.466667\n",
            "12      8815   6925.475633       128.281651  43999.166667\n"
          ]
        }
      ]
    },
    {
      "cell_type": "code",
      "source": [
        "# Insights and Recommendations\n",
        "insights = []\n",
        "\n",
        "# Identify operators with efficiency below a threshold\n",
        "low_efficiency_operators = operator_performance[operator_performance['efficiency'] < 70]\n",
        "if not low_efficiency_operators.empty:\n",
        "    insights.append(\"Operators with low efficiency (below 70%):\")\n",
        "    insights.append(low_efficiency_operators)\n",
        "\n",
        "# Identify operations with high total time\n",
        "bottleneck_operations = operation_performance.sort_values(by='total_time', ascending=False).head(5)\n",
        "insights.append(\"Top 5 bottleneck operations (high total time):\")\n",
        "insights.append(bottleneck_operations)\n",
        "\n",
        "# Identify styles with low production rates\n",
        "low_production_styles = style_performance[style_performance['production_rate'] < 0.5]\n",
        "if not low_production_styles.empty:\n",
        "    insights.append(\"Styles with low production rates (below 0.5 pieces per minute):\")\n",
        "    insights.append(low_production_styles)\n",
        "\n",
        "# Print insights\n",
        "for insight in insights:\n",
        "    print(insight)\n"
      ],
      "metadata": {
        "colab": {
          "base_uri": "https://localhost:8080/",
          "height": 0
        },
        "id": "Z_GZdf0oDwEa",
        "outputId": "386faff2-511d-4f7c-ab0e-4e7c1931a693"
      },
      "execution_count": 17,
      "outputs": [
        {
          "output_type": "stream",
          "name": "stdout",
          "text": [
            "Top 5 bottleneck operations (high total time):\n",
            "    operation_id_x   efficiency  production_rate     total_time\n",
            "31           42664   756.451640        13.916161  194573.916667\n",
            "32           43605   348.416422         6.437832  107003.350000\n",
            "16           29528  5685.731560       107.563347    9871.500000\n",
            "8            29488  8349.038500       151.199410    5149.533333\n",
            "20           33858  8264.732508       149.335832    4542.866667\n"
          ]
        }
      ]
    },
    {
      "cell_type": "markdown",
      "source": [
        "Insights:\n",
        "High Total Time Operations:\n",
        "\n",
        "Operation 42664 has the highest total time of 194573.92 minutes, indicating it is a significant bottleneck.\n",
        "Operation 43605 also shows a high total time of 107003.35 minutes, making it another critical bottleneck.\n",
        "Despite having lower total times compared to the top two, operations 29528, 29488, and 33858 still show substantial total times relative to other operations.\n",
        "Efficiency:\n",
        "\n",
        "Operation 42664 shows an exceptionally high efficiency of 756.45%, which is abnormally high and suggests potential data anomalies or misreporting.\n",
        "Similar high efficiencies are noted for operations 29528, 29488, and 33858, with values 5685.73%, 8349.04%, and 8264.73%, respectively. These figures seem implausible and warrant a thorough review of data accuracy.\n",
        "Operation 43605 shows a more realistic yet still high efficiency of 348.42%, suggesting very efficient work in terms of production but indicating potential measurement errors.\n",
        "Production Rate:\n",
        "\n",
        "Operations 29528, 29488, and 33858 have exceedingly high production rates, which further points towards potential data issues.\n",
        "Operations 42664 and 43605, with production rates of 13.92 and 6.44 pieces per minute respectively, appear more plausible but still need verification given the high efficiency figures."
      ],
      "metadata": {
        "id": "BtctZJL4H3vH"
      }
    },
    {
      "cell_type": "markdown",
      "source": [
        "Review Data Accuracy:\n",
        "\n",
        "Conduct a thorough audit of the data collection and entry process, particularly focusing on the operations with anomalously high efficiency and production rates.\n",
        "Verify if the high efficiency values are due to incorrect SAM values, erroneous time logging, or other data entry issues.\n",
        "Process Improvement for Bottleneck Operations:\n",
        "\n",
        "For operations 42664 and 43605, which are identified as critical bottlenecks, review the workflow to identify inefficiencies or delays.\n",
        "Investigate if these operations can be optimized through better resource allocation, improved machinery, or process reengineering.\n",
        "Operator Training and Support:\n",
        "\n",
        "Given the high variability in efficiency and production rates, provide targeted training to operators to ensure consistency in performance.\n",
        "Ensure that operators are well-versed with the correct procedures and have access to necessary resources and support to minimize downtime.\n",
        "Quality Control Measures:\n",
        "\n",
        "Implement stricter quality control measures to ensure the accuracy of data. This could involve periodic checks and balances, cross-verification with physical output, and automation where possible to reduce human error.\n",
        "Further Analysis:\n",
        "\n",
        "Perform a detailed analysis of other operations with moderate to high total times and efficiencies to uncover underlying patterns or issues.\n",
        "Evaluate the impact of break times and off-standard times on overall production efficiency and explore strategies to minimize them.\n"
      ],
      "metadata": {
        "id": "pCxuYsUrH_fv"
      }
    },
    {
      "cell_type": "code",
      "source": [],
      "metadata": {
        "id": "N3UwyA9iIAXl"
      },
      "execution_count": null,
      "outputs": []
    }
  ]
}